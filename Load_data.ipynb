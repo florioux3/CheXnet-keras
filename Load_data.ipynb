{
  "nbformat": 4,
  "nbformat_minor": 0,
  "metadata": {
    "colab": {
      "provenance": [],
      "authorship_tag": "ABX9TyMMIy718RDdCE/FLKSyVNeG",
      "include_colab_link": true
    },
    "kernelspec": {
      "name": "python3",
      "display_name": "Python 3"
    },
    "language_info": {
      "name": "python"
    }
  },
  "cells": [
    {
      "cell_type": "markdown",
      "metadata": {
        "id": "view-in-github",
        "colab_type": "text"
      },
      "source": [
        "<a href=\"https://colab.research.google.com/github/florioux3/CheXnet-keras/blob/main/Load_data.ipynb\" target=\"_parent\"><img src=\"https://colab.research.google.com/assets/colab-badge.svg\" alt=\"Open In Colab\"/></a>"
      ]
    },
    {
      "cell_type": "markdown",
      "metadata": {
        "id": "l34x2shuEegj"
      },
      "source": [
        "Connect to drive"
      ]
    },
    {
      "cell_type": "code",
      "execution_count": null,
      "metadata": {
        "colab": {
          "base_uri": "https://localhost:8080/"
        },
        "id": "40poE7nuuzSe",
        "outputId": "a54a975e-df15-40e8-d9a1-8ba30b925a19"
      },
      "outputs": [
        {
          "output_type": "stream",
          "name": "stdout",
          "text": [
            "Drive already mounted at /content/drive; to attempt to forcibly remount, call drive.mount(\"/content/drive\", force_remount=True).\n"
          ]
        }
      ],
      "source": [
        "from google.colab import drive\n",
        "drive.mount('/content/drive')"
      ]
    },
    {
      "cell_type": "code",
      "execution_count": null,
      "metadata": {
        "id": "xrbdSDRJY3yf"
      },
      "outputs": [],
      "source": [
        "import urllib.request\n",
        "import requests\n",
        "from tqdm.notebook import tqdm\n",
        "from collections import namedtuple\n",
        "import os"
      ]
    },
    {
      "cell_type": "code",
      "source": [
        "# Folder to download complete dataset images\n",
        "image_path = '/content/drive/MyDrive/691-Project-FlorenceRioux/XRAY/Images/images_complete/'"
      ],
      "metadata": {
        "id": "_4mn3wOHW3WN"
      },
      "execution_count": null,
      "outputs": []
    },
    {
      "cell_type": "code",
      "execution_count": null,
      "metadata": {
        "id": "ln3VUya4UTx-"
      },
      "outputs": [],
      "source": [
        "# Declaring namedtuple()\n",
        "DownloadFile = namedtuple('DownloadFile', ['filename', 'url'])\n",
        "\n",
        "def download_file(url, filepath):\n",
        "    response = requests.get(url, stream=True)\n",
        "    total_size_in_bytes= int(response.headers.get('content-length', 0))\n",
        "    block_size = 1024 #1 Kibibyte\n",
        "    progress_bar = tqdm(\n",
        "        desc=f'Downloading {filepath}',\n",
        "        total=total_size_in_bytes,\n",
        "        unit='iB',\n",
        "        unit_scale=True)\n",
        "    with open(filepath, 'wb') as file:\n",
        "        for data in response.iter_content(block_size):\n",
        "            progress_bar.update(len(data))\n",
        "            file.write(data)\n",
        "    progress_bar.close()\n",
        "    if total_size_in_bytes != 0 and progress_bar.n != total_size_in_bytes:\n",
        "        print('ERROR, something went wrong')\n",
        "\n",
        "download_files = [\n",
        "    DownloadFile('images_01.tar.gz',\n",
        "                 'https://nihcc.box.com/shared/static/vfk49d74nhbxq3nqjg0900w5nvkorp5c.gz'),\n",
        "    DownloadFile('images_02.tar.gz',\n",
        "                 'https://nihcc.box.com/shared/static/i28rlmbvmfjbl8p2n3ril0pptcmcu9d1.gz'),\n",
        "    DownloadFile('images_03.tar.gz',\n",
        "                 'https://nihcc.box.com/shared/static/f1t00wrtdk94satdfb9olcolqx20z2jp.gz'),\n",
        "    DownloadFile('images_04.tar.gz',\n",
        "                 'https://nihcc.box.com/shared/static/0aowwzs5lhjrceb3qp67ahp0rd1l1etg.gz'),\n",
        "    DownloadFile('images_05.tar.gz',\n",
        "                 'https://nihcc.box.com/shared/static/v5e3goj22zr6h8tzualxfsqlqaygfbsn.gz'),\n",
        "     DownloadFile('images_06.tar.gz',\n",
        "                  'https://nihcc.box.com/shared/static/asi7ikud9jwnkrnkj99jnpfkjdes7l6l.gz'),\n",
        "     DownloadFile('images_07.tar.gz',\n",
        "                  'https://nihcc.box.com/shared/static/jn1b4mw4n6lnh74ovmcjb8y48h8xj07n.gz'),\n",
        "     DownloadFile('images_08.tar.gz',\n",
        "                  'https://nihcc.box.com/shared/static/tvpxmn7qyrgl0w8wfh9kqfjskv6nmm1j.gz'),\n",
        "     DownloadFile('images_09.tar.gz',\n",
        "                  'https://nihcc.box.com/shared/static/upyy3ml7qdumlgk2rfcvlb9k6gvqq2pj.gz'),\n",
        "     DownloadFile('images_10.tar.gz',\n",
        "                  'https://nihcc.box.com/shared/static/l6nilvfa9cg3s28tqv1qc1olm3gnz54p.gz'),\n",
        "     DownloadFile('images_11.tar.gz',\n",
        "                  'https://nihcc.box.com/shared/static/hhq8fkdgvcari67vfhs7ppg2w6ni4jze.gz'),\n",
        "     DownloadFile('images_12.tar.gz',\n",
        "                  'https://nihcc.box.com/shared/static/ioqwiy20ihqwyr8pf4c24eazhh281pbu.gz'),\n",
        "]\n",
        "\n",
        "for file in download_files:\n",
        "    if os.path.isfile(file.filename):\n",
        "        print(f'{file.filename} is already downloaded, skipping...')\n",
        "        continue\n",
        "    download_file(file.url, file.filename)\n",
        "\n",
        "print('Download complete')\n",
        "\n"
      ]
    },
    {
      "cell_type": "code",
      "execution_count": null,
      "metadata": {
        "id": "Ms3uir38iZ-y"
      },
      "outputs": [],
      "source": [
        "import tarfile\n",
        "  \n",
        "def unzip_file(filename, path):\n",
        "    with tarfile.open(filename, 'r:gz') as file:\n",
        "        for member in tqdm(\n",
        "                desc=f'Extracting {filename}',\n",
        "                iterable=file.getmembers(),\n",
        "                total=len(file.getmembers())):\n",
        "            file.extract(member=member, path=path)\n",
        "\n",
        "for file in download_files:\n",
        "    unzip_file(file.filename, image_path)\n",
        "\n",
        "print('Extraction complete')"
      ]
    }
  ]
}